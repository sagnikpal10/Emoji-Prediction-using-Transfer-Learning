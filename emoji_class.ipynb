{
  "nbformat": 4,
  "nbformat_minor": 0,
  "metadata": {
    "kernelspec": {
      "display_name": "Python 3",
      "language": "python",
      "name": "python3"
    },
    "language_info": {
      "codemirror_mode": {
        "name": "ipython",
        "version": 3
      },
      "file_extension": ".py",
      "mimetype": "text/x-python",
      "name": "python",
      "nbconvert_exporter": "python",
      "pygments_lexer": "ipython3",
      "version": "3.6.1"
    },
    "colab": {
      "name": "emoji-class.ipynb",
      "provenance": []
    }
  },
  "cells": [
    {
      "cell_type": "code",
      "metadata": {
        "id": "alNYmlT9B-Xi",
        "colab_type": "code",
        "colab": {},
        "outputId": "9fef0549-55fc-4eb3-e08a-f3b7cbcec876"
      },
      "source": [
        "!pip install emoji"
      ],
      "execution_count": 0,
      "outputs": [
        {
          "output_type": "stream",
          "text": [
            "Requirement already satisfied: emoji in c:\\python36\\lib\\site-packages (0.5.1)\n"
          ],
          "name": "stdout"
        },
        {
          "output_type": "stream",
          "text": [
            "You are using pip version 18.0, however version 19.0.3 is available.\n",
            "You should consider upgrading via the 'python -m pip install --upgrade pip' command.\n"
          ],
          "name": "stderr"
        }
      ]
    },
    {
      "cell_type": "code",
      "metadata": {
        "id": "DCdG10tGB-Xv",
        "colab_type": "code",
        "colab": {}
      },
      "source": [
        "import numpy as np\n",
        "import pandas as pd"
      ],
      "execution_count": 0,
      "outputs": []
    },
    {
      "cell_type": "code",
      "metadata": {
        "id": "E0Dt8DWvB-X2",
        "colab_type": "code",
        "colab": {}
      },
      "source": [
        "train = pd.read_csv('dataset/train_emoji.csv',header=None)\n",
        "test = pd.read_csv('dataset/test_emoji.csv',header=None)"
      ],
      "execution_count": 0,
      "outputs": []
    },
    {
      "cell_type": "code",
      "metadata": {
        "id": "7SJz_tV-B-X9",
        "colab_type": "code",
        "colab": {},
        "outputId": "72511baa-f884-4a2a-fc3e-7d97a80e5475"
      },
      "source": [
        "train.head()"
      ],
      "execution_count": 0,
      "outputs": [
        {
          "output_type": "execute_result",
          "data": {
            "text/html": [
              "<div>\n",
              "<style scoped>\n",
              "    .dataframe tbody tr th:only-of-type {\n",
              "        vertical-align: middle;\n",
              "    }\n",
              "\n",
              "    .dataframe tbody tr th {\n",
              "        vertical-align: top;\n",
              "    }\n",
              "\n",
              "    .dataframe thead th {\n",
              "        text-align: right;\n",
              "    }\n",
              "</style>\n",
              "<table border=\"1\" class=\"dataframe\">\n",
              "  <thead>\n",
              "    <tr style=\"text-align: right;\">\n",
              "      <th></th>\n",
              "      <th>0</th>\n",
              "      <th>1</th>\n",
              "      <th>2</th>\n",
              "      <th>3</th>\n",
              "    </tr>\n",
              "  </thead>\n",
              "  <tbody>\n",
              "    <tr>\n",
              "      <th>0</th>\n",
              "      <td>never talk to me again</td>\n",
              "      <td>3</td>\n",
              "      <td>NaN</td>\n",
              "      <td>NaN</td>\n",
              "    </tr>\n",
              "    <tr>\n",
              "      <th>1</th>\n",
              "      <td>I am proud of your achievements</td>\n",
              "      <td>2</td>\n",
              "      <td>NaN</td>\n",
              "      <td>NaN</td>\n",
              "    </tr>\n",
              "    <tr>\n",
              "      <th>2</th>\n",
              "      <td>It is the worst day in my life</td>\n",
              "      <td>3</td>\n",
              "      <td>NaN</td>\n",
              "      <td>NaN</td>\n",
              "    </tr>\n",
              "    <tr>\n",
              "      <th>3</th>\n",
              "      <td>Miss you so much</td>\n",
              "      <td>0</td>\n",
              "      <td>NaN</td>\n",
              "      <td>[0]</td>\n",
              "    </tr>\n",
              "    <tr>\n",
              "      <th>4</th>\n",
              "      <td>food is life</td>\n",
              "      <td>4</td>\n",
              "      <td>NaN</td>\n",
              "      <td>NaN</td>\n",
              "    </tr>\n",
              "  </tbody>\n",
              "</table>\n",
              "</div>"
            ],
            "text/plain": [
              "                                 0  1   2     3\n",
              "0           never talk to me again  3 NaN   NaN\n",
              "1  I am proud of your achievements  2 NaN   NaN\n",
              "2   It is the worst day in my life  3 NaN   NaN\n",
              "3                 Miss you so much  0 NaN   [0]\n",
              "4                     food is life  4 NaN   NaN"
            ]
          },
          "metadata": {
            "tags": []
          },
          "execution_count": 49
        }
      ]
    },
    {
      "cell_type": "code",
      "metadata": {
        "id": "JHXsZl4rB-YD",
        "colab_type": "code",
        "colab": {}
      },
      "source": [
        "import emoji as emoji"
      ],
      "execution_count": 0,
      "outputs": []
    },
    {
      "cell_type": "code",
      "metadata": {
        "id": "pPEKT4wjB-YH",
        "colab_type": "code",
        "colab": {}
      },
      "source": [
        "#emoji.EMOJI_ALIAS_UNICODE"
      ],
      "execution_count": 0,
      "outputs": []
    },
    {
      "cell_type": "code",
      "metadata": {
        "id": "YNHWXPMNB-YL",
        "colab_type": "code",
        "colab": {}
      },
      "source": [
        "emoji_dictionary = {\"0\": \"\\u2764\\uFE0F\",    # :heart: prints a black instead of red heart depending on the font\n",
        "                    \"1\": \":baseball:\",\n",
        "                    \"2\": \":beaming_face_with_smiling_eyes:\",\n",
        "                    \"3\": \":downcast_face_with_sweat:\",\n",
        "                    \"4\": \":fork_and_knife:\",\n",
        "                   }"
      ],
      "execution_count": 0,
      "outputs": []
    },
    {
      "cell_type": "code",
      "metadata": {
        "id": "J-7bxmQeB-YP",
        "colab_type": "code",
        "colab": {},
        "outputId": "115aa4bb-3b62-4381-9997-00cceadb3fe0"
      },
      "source": [
        "emoji.emojize(\":fork_and_knife:\")"
      ],
      "execution_count": 0,
      "outputs": [
        {
          "output_type": "execute_result",
          "data": {
            "text/plain": [
              "'🍴'"
            ]
          },
          "metadata": {
            "tags": []
          },
          "execution_count": 53
        }
      ]
    },
    {
      "cell_type": "code",
      "metadata": {
        "id": "OUi_r8WZB-YT",
        "colab_type": "code",
        "colab": {},
        "outputId": "9aaa67e1-1718-4be4-d4b4-22e1032b3882"
      },
      "source": [
        "for e in emoji_dictionary.values():\n",
        "    print(emoji.emojize(e))"
      ],
      "execution_count": 0,
      "outputs": [
        {
          "output_type": "stream",
          "text": [
            "❤️\n",
            "⚾\n",
            "😁\n",
            "😓\n",
            "🍴\n"
          ],
          "name": "stdout"
        }
      ]
    },
    {
      "cell_type": "code",
      "metadata": {
        "id": "P9oWthjdB-YX",
        "colab_type": "code",
        "colab": {},
        "outputId": "5845f424-1d6f-4139-d52c-efedc1fe0794"
      },
      "source": [
        "data = train.values\n",
        "for i in range(10):\n",
        "    print(data[i][0],emoji.emojize(emoji_dictionary[str(data[i][1])]))"
      ],
      "execution_count": 0,
      "outputs": [
        {
          "output_type": "stream",
          "text": [
            "never talk to me again 😓\n",
            "I am proud of your achievements 😁\n",
            "It is the worst day in my life 😓\n",
            "Miss you so much ❤️\n",
            "food is life 🍴\n",
            "I love you mum ❤️\n",
            "Stop saying bullshit 😓\n",
            "congratulations on your acceptance 😁\n",
            "The assignment is too long  😓\n",
            "I want to go play ⚾\n"
          ],
          "name": "stdout"
        }
      ]
    },
    {
      "cell_type": "code",
      "metadata": {
        "id": "Y9ddC4AvB-Ya",
        "colab_type": "code",
        "colab": {}
      },
      "source": [
        "from keras.utils import to_categorical"
      ],
      "execution_count": 0,
      "outputs": []
    },
    {
      "cell_type": "code",
      "metadata": {
        "id": "tX3pSLb-B-Yg",
        "colab_type": "code",
        "colab": {},
        "outputId": "3e43a0ec-3539-4017-d78c-a877e96e6522"
      },
      "source": [
        "XT = train[0]\n",
        "Xt = test[0]\n",
        "\n",
        "YT = to_categorical(train[1])\n",
        "Yt = to_categorical(test[1])\n",
        "\n",
        "\n",
        "print(XT.shape)\n",
        "print(Xt.shape)\n",
        "print(YT.shape)\n",
        "print(Yt.shape)"
      ],
      "execution_count": 0,
      "outputs": [
        {
          "output_type": "stream",
          "text": [
            "(132,)\n",
            "(56,)\n",
            "(132, 5)\n",
            "(56, 5)\n"
          ],
          "name": "stdout"
        }
      ]
    },
    {
      "cell_type": "code",
      "metadata": {
        "id": "q-NttmP7B-Yl",
        "colab_type": "code",
        "colab": {}
      },
      "source": [
        "embeddings = {}\n",
        "with open('glove.6B.50d.txt',encoding='utf-8') as f:\n",
        "    for line in f:\n",
        "        values = line.split()\n",
        "        word = values[0]\n",
        "        coeffs = np.asarray(values[1:],dtype='float32')\n",
        "        \n",
        "        #print(word)\n",
        "        #print(coeffs)\n",
        "        embeddings[word] = coeffs"
      ],
      "execution_count": 0,
      "outputs": []
    },
    {
      "cell_type": "code",
      "metadata": {
        "id": "9FpA1QvVB-Yp",
        "colab_type": "code",
        "colab": {}
      },
      "source": [
        "def getOutputEmbeddings(X):\n",
        "    \n",
        "    embedding_matrix_output = np.zeros((X.shape[0],10,50))\n",
        "    for ix in range(X.shape[0]):\n",
        "        X[ix] = X[ix].split()\n",
        "        for jx in range(len(X[ix])):\n",
        "            embedding_matrix_output[ix][jx] = embeddings[X[ix][jx].lower()]\n",
        "            \n",
        "    return embedding_matrix_output"
      ],
      "execution_count": 0,
      "outputs": []
    },
    {
      "cell_type": "code",
      "metadata": {
        "id": "jmiVaOQQB-Yt",
        "colab_type": "code",
        "colab": {},
        "outputId": "d26a0987-c2fd-42f6-991d-95dcb1da6f07"
      },
      "source": [
        "emb_XT = getOutputEmbeddings(XT)\n",
        "emb_Xt = getOutputEmbeddings(Xt)"
      ],
      "execution_count": 0,
      "outputs": [
        {
          "output_type": "stream",
          "text": [
            "c:\\python36\\lib\\site-packages\\ipykernel_launcher.py:5: SettingWithCopyWarning: \n",
            "A value is trying to be set on a copy of a slice from a DataFrame\n",
            "\n",
            "See the caveats in the documentation: http://pandas.pydata.org/pandas-docs/stable/indexing.html#indexing-view-versus-copy\n",
            "  \"\"\"\n"
          ],
          "name": "stderr"
        }
      ]
    },
    {
      "cell_type": "code",
      "metadata": {
        "id": "0sge1olsB-Yw",
        "colab_type": "code",
        "colab": {},
        "outputId": "30f3d57e-d688-4ff2-8200-08ced39c5a46"
      },
      "source": [
        "print(emb_XT.shape)\n",
        "print(emb_Xt.shape)\n"
      ],
      "execution_count": 0,
      "outputs": [
        {
          "output_type": "stream",
          "text": [
            "(132, 10, 50)\n",
            "(56, 10, 50)\n"
          ],
          "name": "stdout"
        }
      ]
    },
    {
      "cell_type": "code",
      "metadata": {
        "id": "Bf6jSrvAB-Yz",
        "colab_type": "code",
        "colab": {}
      },
      "source": [
        "from keras.layers import *\n",
        "from keras.models import Sequential"
      ],
      "execution_count": 0,
      "outputs": []
    },
    {
      "cell_type": "code",
      "metadata": {
        "id": "W4bolQqJB-Y3",
        "colab_type": "code",
        "colab": {},
        "outputId": "b7b4f623-b945-4913-c50e-0c9676529435"
      },
      "source": [
        "model = Sequential()\n",
        "model.add(LSTM(64,input_shape=(10,50),return_sequences=True))\n",
        "model.add(Dropout(0.4))\n",
        "model.add(LSTM(64,input_shape=(10,50)))\n",
        "model.add(Dropout(0.3))\n",
        "model.add(Dense(5))\n",
        "model.add(Activation('softmax'))\n",
        "model.summary()"
      ],
      "execution_count": 0,
      "outputs": [
        {
          "output_type": "stream",
          "text": [
            "_________________________________________________________________\n",
            "Layer (type)                 Output Shape              Param #   \n",
            "=================================================================\n",
            "lstm_4 (LSTM)                (None, 10, 64)            29440     \n",
            "_________________________________________________________________\n",
            "dropout_7 (Dropout)          (None, 10, 64)            0         \n",
            "_________________________________________________________________\n",
            "lstm_5 (LSTM)                (None, 64)                33024     \n",
            "_________________________________________________________________\n",
            "dropout_8 (Dropout)          (None, 64)                0         \n",
            "_________________________________________________________________\n",
            "dense_6 (Dense)              (None, 5)                 325       \n",
            "_________________________________________________________________\n",
            "activation_6 (Activation)    (None, 5)                 0         \n",
            "=================================================================\n",
            "Total params: 62,789\n",
            "Trainable params: 62,789\n",
            "Non-trainable params: 0\n",
            "_________________________________________________________________\n"
          ],
          "name": "stdout"
        }
      ]
    },
    {
      "cell_type": "code",
      "metadata": {
        "id": "20G88F2xB-Y7",
        "colab_type": "code",
        "colab": {},
        "outputId": "98a37dda-5f3f-4dd4-ad8c-9c5b24d6161a"
      },
      "source": [
        "model.compile(optimizer='adam',loss='categorical_crossentropy',metrics=['acc'])\n",
        "model.fit(emb_XT,YT,batch_size=32,epochs=40,shuffle=True,validation_split=0.1)"
      ],
      "execution_count": 0,
      "outputs": [
        {
          "output_type": "stream",
          "text": [
            "Train on 118 samples, validate on 14 samples\n",
            "Epoch 1/40\n",
            "118/118 [==============================] - 2s 19ms/step - loss: 1.5859 - acc: 0.2542 - val_loss: 1.5945 - val_acc: 0.2857\n",
            "Epoch 2/40\n",
            "118/118 [==============================] - 0s 699us/step - loss: 1.5427 - acc: 0.3305 - val_loss: 1.5953 - val_acc: 0.2857\n",
            "Epoch 3/40\n",
            "118/118 [==============================] - 0s 769us/step - loss: 1.4821 - acc: 0.3559 - val_loss: 1.6199 - val_acc: 0.3571\n",
            "Epoch 4/40\n",
            "118/118 [==============================] - 0s 705us/step - loss: 1.4565 - acc: 0.4407 - val_loss: 1.6379 - val_acc: 0.1429\n",
            "Epoch 5/40\n",
            "118/118 [==============================] - 0s 702us/step - loss: 1.4142 - acc: 0.4407 - val_loss: 1.6129 - val_acc: 0.1429\n",
            "Epoch 6/40\n",
            "118/118 [==============================] - 0s 761us/step - loss: 1.3337 - acc: 0.5169 - val_loss: 1.5451 - val_acc: 0.2857\n",
            "Epoch 7/40\n",
            "118/118 [==============================] - 0s 625us/step - loss: 1.2864 - acc: 0.5169 - val_loss: 1.4498 - val_acc: 0.3571\n",
            "Epoch 8/40\n",
            "118/118 [==============================] - 0s 642us/step - loss: 1.1946 - acc: 0.5085 - val_loss: 1.4197 - val_acc: 0.2857\n",
            "Epoch 9/40\n",
            "118/118 [==============================] - 0s 761us/step - loss: 1.1228 - acc: 0.5932 - val_loss: 1.4085 - val_acc: 0.2857\n",
            "Epoch 10/40\n",
            "118/118 [==============================] - 0s 710us/step - loss: 1.0240 - acc: 0.6271 - val_loss: 1.3849 - val_acc: 0.3571\n",
            "Epoch 11/40\n",
            "118/118 [==============================] - 0s 718us/step - loss: 0.9977 - acc: 0.6102 - val_loss: 1.4692 - val_acc: 0.3571\n",
            "Epoch 12/40\n",
            "118/118 [==============================] - 0s 642us/step - loss: 0.8730 - acc: 0.6271 - val_loss: 1.4673 - val_acc: 0.2857\n",
            "Epoch 13/40\n",
            "118/118 [==============================] - 0s 786us/step - loss: 0.8229 - acc: 0.6610 - val_loss: 1.2615 - val_acc: 0.5000\n",
            "Epoch 14/40\n",
            "118/118 [==============================] - 0s 896us/step - loss: 0.7265 - acc: 0.7881 - val_loss: 1.4967 - val_acc: 0.3571\n",
            "Epoch 15/40\n",
            "118/118 [==============================] - 0s 794us/step - loss: 0.6316 - acc: 0.7966 - val_loss: 1.4081 - val_acc: 0.5000\n",
            "Epoch 16/40\n",
            "118/118 [==============================] - 0s 761us/step - loss: 0.5637 - acc: 0.8220 - val_loss: 1.6352 - val_acc: 0.3571\n",
            "Epoch 17/40\n",
            "118/118 [==============================] - 0s 1ms/step - loss: 0.5114 - acc: 0.8390 - val_loss: 1.2273 - val_acc: 0.5000\n",
            "Epoch 18/40\n",
            "118/118 [==============================] - 0s 862us/step - loss: 0.4831 - acc: 0.8729 - val_loss: 1.3933 - val_acc: 0.5714\n",
            "Epoch 19/40\n",
            "118/118 [==============================] - 0s 845us/step - loss: 0.4822 - acc: 0.8390 - val_loss: 1.1681 - val_acc: 0.5000\n",
            "Epoch 20/40\n",
            "118/118 [==============================] - 0s 617us/step - loss: 0.4256 - acc: 0.8644 - val_loss: 0.9878 - val_acc: 0.4286\n",
            "Epoch 21/40\n",
            "118/118 [==============================] - 0s 811us/step - loss: 0.3975 - acc: 0.8559 - val_loss: 1.7228 - val_acc: 0.4286\n",
            "Epoch 22/40\n",
            "118/118 [==============================] - 0s 854us/step - loss: 0.3928 - acc: 0.8644 - val_loss: 0.9673 - val_acc: 0.7143\n",
            "Epoch 23/40\n",
            "118/118 [==============================] - 0s 828us/step - loss: 0.4369 - acc: 0.8475 - val_loss: 0.8539 - val_acc: 0.7143\n",
            "Epoch 24/40\n",
            "118/118 [==============================] - 0s 845us/step - loss: 0.3090 - acc: 0.8983 - val_loss: 1.3856 - val_acc: 0.4286\n",
            "Epoch 25/40\n",
            "118/118 [==============================] - 0s 854us/step - loss: 0.2980 - acc: 0.8898 - val_loss: 1.1877 - val_acc: 0.5714\n",
            "Epoch 26/40\n",
            "118/118 [==============================] - 0s 896us/step - loss: 0.2430 - acc: 0.9322 - val_loss: 0.7967 - val_acc: 0.6429\n",
            "Epoch 27/40\n",
            "118/118 [==============================] - 0s 972us/step - loss: 0.2162 - acc: 0.9492 - val_loss: 1.0383 - val_acc: 0.5714\n",
            "Epoch 28/40\n",
            "118/118 [==============================] - 0s 718us/step - loss: 0.1883 - acc: 0.9492 - val_loss: 1.4842 - val_acc: 0.5714\n",
            "Epoch 29/40\n",
            "118/118 [==============================] - 0s 642us/step - loss: 0.1870 - acc: 0.9661 - val_loss: 1.0119 - val_acc: 0.5000\n",
            "Epoch 30/40\n",
            "118/118 [==============================] - 0s 828us/step - loss: 0.1636 - acc: 0.9661 - val_loss: 1.1021 - val_acc: 0.6429\n",
            "Epoch 31/40\n",
            "118/118 [==============================] - 0s 1ms/step - loss: 0.1668 - acc: 0.9492 - val_loss: 1.7417 - val_acc: 0.5714\n",
            "Epoch 32/40\n",
            "118/118 [==============================] - 0s 795us/step - loss: 0.1248 - acc: 0.9661 - val_loss: 0.9650 - val_acc: 0.6429\n",
            "Epoch 33/40\n",
            "118/118 [==============================] - 0s 803us/step - loss: 0.1660 - acc: 0.9492 - val_loss: 0.9323 - val_acc: 0.7143\n",
            "Epoch 34/40\n",
            "118/118 [==============================] - 0s 710us/step - loss: 0.1182 - acc: 0.9661 - val_loss: 1.9558 - val_acc: 0.5714\n",
            "Epoch 35/40\n",
            "118/118 [==============================] - 0s 718us/step - loss: 0.1300 - acc: 0.9576 - val_loss: 1.4847 - val_acc: 0.6429\n",
            "Epoch 36/40\n",
            "118/118 [==============================] - 0s 575us/step - loss: 0.1123 - acc: 0.9746 - val_loss: 0.9720 - val_acc: 0.5714\n",
            "Epoch 37/40\n",
            "118/118 [==============================] - 0s 701us/step - loss: 0.1038 - acc: 0.9831 - val_loss: 0.9784 - val_acc: 0.6429\n",
            "Epoch 38/40\n",
            "118/118 [==============================] - 0s 871us/step - loss: 0.0662 - acc: 0.9915 - val_loss: 1.6416 - val_acc: 0.5714\n",
            "Epoch 39/40\n",
            "118/118 [==============================] - 0s 837us/step - loss: 0.0924 - acc: 0.9576 - val_loss: 1.1138 - val_acc: 0.6429\n",
            "Epoch 40/40\n",
            "118/118 [==============================] - 0s 744us/step - loss: 0.0769 - acc: 0.9661 - val_loss: 1.1938 - val_acc: 0.6429\n"
          ],
          "name": "stdout"
        },
        {
          "output_type": "execute_result",
          "data": {
            "text/plain": [
              "<keras.callbacks.History at 0x23474e4d668>"
            ]
          },
          "metadata": {
            "tags": []
          },
          "execution_count": 96
        }
      ]
    },
    {
      "cell_type": "code",
      "metadata": {
        "id": "EvJ60FhnB-Y-",
        "colab_type": "code",
        "colab": {},
        "outputId": "d4cd6d99-4f21-4c05-9341-e9a43a057ade"
      },
      "source": [
        "model.evaluate(emb_Xt,Yt)"
      ],
      "execution_count": 0,
      "outputs": [
        {
          "output_type": "stream",
          "text": [
            "56/56 [==============================] - 0s 321us/step\n"
          ],
          "name": "stdout"
        },
        {
          "output_type": "execute_result",
          "data": {
            "text/plain": [
              "[1.7575756481715612, 0.5714285629136222]"
            ]
          },
          "metadata": {
            "tags": []
          },
          "execution_count": 101
        }
      ]
    },
    {
      "cell_type": "code",
      "metadata": {
        "id": "VsIf_yGDB-ZB",
        "colab_type": "code",
        "colab": {}
      },
      "source": [
        "pred = model.predict_classes(emb_Xt)"
      ],
      "execution_count": 0,
      "outputs": []
    },
    {
      "cell_type": "code",
      "metadata": {
        "id": "yro0bgN3B-ZD",
        "colab_type": "code",
        "colab": {},
        "outputId": "84ab73c5-bcf2-428b-937a-d65104f28d7f"
      },
      "source": [
        "for i in range(30):\n",
        "    print(' '.join(Xt[i]))\n",
        "    print(emoji.emojize(emoji_dictionary[str(np.argmax(Yt[i]))]))\n",
        "    print(emoji.emojize(emoji_dictionary[str(pred[i])]))"
      ],
      "execution_count": 0,
      "outputs": [
        {
          "output_type": "stream",
          "text": [
            "I want to eat\n",
            "🍴\n",
            "🍴\n",
            "he did not answer\n",
            "😓\n",
            "😓\n",
            "he got a raise\n",
            "😁\n",
            "⚾\n",
            "she got me a present\n",
            "❤️\n",
            "😁\n",
            "ha ha ha it was so funny\n",
            "😁\n",
            "😁\n",
            "he is a good friend\n",
            "❤️\n",
            "😁\n",
            "I am upset\n",
            "❤️\n",
            "😓\n",
            "We had such a lovely dinner tonight\n",
            "❤️\n",
            "😁\n",
            "where is the food\n",
            "🍴\n",
            "🍴\n",
            "Stop making this joke ha ha ha\n",
            "😁\n",
            "😁\n",
            "where is the ball\n",
            "⚾\n",
            "⚾\n",
            "work is hard\n",
            "😓\n",
            "😁\n",
            "This girl is messing with me\n",
            "😓\n",
            "❤️\n",
            "are you serious ha ha\n",
            "😁\n",
            "😓\n",
            "Let us go play baseball\n",
            "⚾\n",
            "⚾\n",
            "This stupid grader is not working\n",
            "😓\n",
            "😓\n",
            "work is horrible\n",
            "😓\n",
            "😓\n",
            "Congratulation for having a baby\n",
            "😁\n",
            "😁\n",
            "stop messing around\n",
            "😓\n",
            "😓\n",
            "any suggestions for dinner\n",
            "🍴\n",
            "🍴\n",
            "I love taking breaks\n",
            "❤️\n",
            "😓\n",
            "you brighten my day\n",
            "😁\n",
            "❤️\n",
            "I boiled rice\n",
            "🍴\n",
            "🍴\n",
            "she is a bully\n",
            "😓\n",
            "😁\n",
            "Why are you feeling bad\n",
            "😓\n",
            "😓\n",
            "I am upset\n",
            "😓\n",
            "😓\n",
            "I worked during my birthday\n",
            "😓\n",
            "😁\n",
            "My grandmother is the love of my life\n",
            "❤️\n",
            "❤️\n",
            "enjoy your break\n",
            "😁\n",
            "⚾\n",
            "valentine day is near\n",
            "❤️\n",
            "😁\n"
          ],
          "name": "stdout"
        }
      ]
    },
    {
      "cell_type": "code",
      "metadata": {
        "id": "hVz7iRTgB-ZF",
        "colab_type": "code",
        "colab": {}
      },
      "source": [
        ""
      ],
      "execution_count": 0,
      "outputs": []
    },
    {
      "cell_type": "code",
      "metadata": {
        "id": "wyp7WCQ9B-ZH",
        "colab_type": "code",
        "colab": {}
      },
      "source": [
        ""
      ],
      "execution_count": 0,
      "outputs": []
    }
  ]
}